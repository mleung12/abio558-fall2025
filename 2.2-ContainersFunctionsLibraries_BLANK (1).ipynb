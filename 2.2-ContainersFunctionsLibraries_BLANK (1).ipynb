{
 "cells": [
  {
   "cell_type": "markdown",
   "id": "47f50eae-6f41-4b28-9488-b72c216aab4d",
   "metadata": {},
   "source": [
    "# 2.2 - Containers, functions, arrays\n",
    "\n",
    "### Learning goals for today\n",
    "1. Inspect and understand Python data types (10 minutes)\n",
    "2. Create, index and manipulate built in containers like lists and tuples (15 minutes)\n",
    "3. Use and define functions in Python, Import specialized python libraries (15 minutes)\n",
    "4. Use numpy to create and compute with arrays and matrices (15 minutes)\n",
    "5. Use NumPy and Matplotlib to solve problems in biology (20 minutes)\n",
    "\n",
    "---\n",
    "### How to use this notebook during class\n",
    "- Follow along as we go\n",
    "- Use your **Cards** to indicate where you're at:\n",
    "    - A **🟩Green card** means you are caught up with Max and **ready to help your classmates**\n",
    "    - A **🟥Red card** means you are stuck and need help\n",
    "- <span style='color:red;'>EXERCISE</span> — work on this problem by yourself, or try with a partner if you get stuck\n",
    "---\n",
    "### Resources and more practice:\n",
    "- https://swcarpentry.github.io/python-novice-gapminder/03-types-conversion.html\n",
    "- https://swcarpentry.github.io/python-novice-gapminder/instructor/04-built-in.html\n",
    "- https://swcarpentry.github.io/python-novice-gapminder/instructor/06-libraries.html"
   ]
  },
  {
   "cell_type": "markdown",
   "id": "12f3db66-8cd9-4e77-a5de-6b2d8dcfce1e",
   "metadata": {},
   "source": [
    "## 1) Data types\n",
    "Common built-in scalar types:\n",
    "- `int` (integers), `float` (decimal numbers), `bool` (True/False), and `str` (text).\n",
    "\n",
    "Python variables are *dynamically* typed. This means that when you define a variable Python is smart and figures out what the data type should be. This is convenient but can be dangerous.\n",
    "\n",
    "Use `type(obj)` to check the type.\n"
   ]
  },
  {
   "cell_type": "code",
   "execution_count": 1,
   "id": "a1d54d78-40c5-4297-bb44-e2faebb70f2c",
   "metadata": {},
   "outputs": [
    {
     "name": "stdout",
     "output_type": "stream",
     "text": [
      "<class 'int'>\n"
     ]
    }
   ],
   "source": [
    "a = 5\n",
    "print(type(a))"
   ]
  },
  {
   "cell_type": "code",
   "execution_count": 2,
   "id": "8c2939a6-acba-4054-9dad-1cb56aeafaff",
   "metadata": {},
   "outputs": [
    {
     "name": "stdout",
     "output_type": "stream",
     "text": [
      "<class 'float'>\n"
     ]
    }
   ],
   "source": [
    "b = 5.5\n",
    "print (type(b))"
   ]
  },
  {
   "cell_type": "code",
   "execution_count": 3,
   "id": "378cc0bb-5c6a-47f6-ba7a-9c6c1c79a1f6",
   "metadata": {},
   "outputs": [
    {
     "name": "stdout",
     "output_type": "stream",
     "text": [
      "<class 'bool'>\n"
     ]
    }
   ],
   "source": [
    "c = True\n",
    "print(type(c))"
   ]
  },
  {
   "cell_type": "code",
   "execution_count": 6,
   "id": "b72006e2-e64b-40a7-bc1b-d93f4b820dbe",
   "metadata": {},
   "outputs": [
    {
     "name": "stdout",
     "output_type": "stream",
     "text": [
      "<class 'str'>\n"
     ]
    }
   ],
   "source": [
    "d = 'Helloeveryone'\n",
    "print(type(d))"
   ]
  },
  {
   "cell_type": "markdown",
   "id": "0bebd4d8-9fbe-4453-a47b-1cc583e92725",
   "metadata": {},
   "source": [
    "### Booleans and comparisons\n",
    "Comparison operators: `==`, `!=`, `<`, `<=`, `>`, `>=`.\n",
    "Logical operators: `and`, `or`, `not`.\n"
   ]
  },
  {
   "cell_type": "code",
   "execution_count": 7,
   "id": "81331027-394e-4f21-984d-34c7b73e044a",
   "metadata": {},
   "outputs": [
    {
     "data": {
      "text/plain": [
       "False"
      ]
     },
     "execution_count": 7,
     "metadata": {},
     "output_type": "execute_result"
    }
   ],
   "source": [
    "3 > 5"
   ]
  },
  {
   "cell_type": "code",
   "execution_count": 8,
   "id": "1cfdaddc-505d-41ae-ab78-4c46a18dc002",
   "metadata": {},
   "outputs": [
    {
     "data": {
      "text/plain": [
       "True"
      ]
     },
     "execution_count": 8,
     "metadata": {},
     "output_type": "execute_result"
    }
   ],
   "source": [
    "(3 <= 5) and (3==3)"
   ]
  },
  {
   "cell_type": "code",
   "execution_count": null,
   "id": "8b045b02-e10e-4169-b955-734c9f9eb027",
   "metadata": {},
   "outputs": [],
   "source": []
  },
  {
   "cell_type": "markdown",
   "id": "353a5452-1015-4926-83db-3a2ccb489429",
   "metadata": {},
   "source": [
    "## 2) Containers\n",
    "\n",
    "A **container** is a data structure that stores a collection of objects\n",
    "\n",
    "There are a few examples of containers, including:\n",
    "- **string**: A container full of characters like \"hello\"\n",
    "- **list**: A container full of whatever, separated by commas, like: [1, 2, 3.5, 50]\n",
    "- **tuple**: a lot like a list but it is _immutable_ "
   ]
  },
  {
   "cell_type": "markdown",
   "id": "0cb70281-6ff4-4cde-8e05-0f96140fa6ab",
   "metadata": {},
   "source": [
    "What can you do with a container? Here are two things:\n",
    "1. Index to retrieve or change values\n",
    "2. Math!\n",
    "\n",
    "Let's make a list and see what both of these look like:"
   ]
  },
  {
   "cell_type": "code",
   "execution_count": 10,
   "id": "e420e46c-396d-4d4f-b407-f3a60ac8d64c",
   "metadata": {},
   "outputs": [
    {
     "name": "stdout",
     "output_type": "stream",
     "text": [
      "[0, 1, 2, 3]\n"
     ]
    }
   ],
   "source": [
    "my_list = [0,1,2,3]\n",
    "print(my_list)"
   ]
  },
  {
   "cell_type": "code",
   "execution_count": 16,
   "id": "c7085bcb-29e2-4e8a-a532-0e709f4dc4c1",
   "metadata": {},
   "outputs": [
    {
     "data": {
      "text/plain": [
       "[1, 2]"
      ]
     },
     "execution_count": 16,
     "metadata": {},
     "output_type": "execute_result"
    }
   ],
   "source": [
    "my_list[1:3]"
   ]
  },
  {
   "cell_type": "code",
   "execution_count": 17,
   "id": "2e35ea28-2c3a-4917-9af4-35b332a7c506",
   "metadata": {},
   "outputs": [
    {
     "name": "stdout",
     "output_type": "stream",
     "text": [
      "(0, 3, 5, 2)\n"
     ]
    }
   ],
   "source": [
    "my_tuple = (0,3,5,2)\n",
    "print(my_tuple)"
   ]
  },
  {
   "cell_type": "code",
   "execution_count": 18,
   "id": "16d58968-c6dc-4911-9955-927cfc128389",
   "metadata": {},
   "outputs": [
    {
     "name": "stdout",
     "output_type": "stream",
     "text": [
      "[0, 1000, 2, 3]\n"
     ]
    }
   ],
   "source": [
    "my_list[1]=1000\n",
    "print(my_list)"
   ]
  },
  {
   "cell_type": "code",
   "execution_count": 20,
   "id": "34b000d7-5c21-4c72-a853-4c217981c728",
   "metadata": {},
   "outputs": [
    {
     "ename": "TypeError",
     "evalue": "'tuple' object does not support item assignment",
     "output_type": "error",
     "traceback": [
      "\u001b[31m---------------------------------------------------------------------------\u001b[39m",
      "\u001b[31mTypeError\u001b[39m                                 Traceback (most recent call last)",
      "\u001b[36mCell\u001b[39m\u001b[36m \u001b[39m\u001b[32mIn[20]\u001b[39m\u001b[32m, line 1\u001b[39m\n\u001b[32m----> \u001b[39m\u001b[32m1\u001b[39m \u001b[43mmy_tuple\u001b[49m\u001b[43m[\u001b[49m\u001b[32;43m1\u001b[39;49m\u001b[43m]\u001b[49m=\u001b[32m1000\u001b[39m\n\u001b[32m      2\u001b[39m \u001b[38;5;28mprint\u001b[39m(my_tuple)\n",
      "\u001b[31mTypeError\u001b[39m: 'tuple' object does not support item assignment"
     ]
    }
   ],
   "source": [
    "my_tuple[1]=1000\n",
    "print(my_tuple)"
   ]
  },
  {
   "cell_type": "markdown",
   "id": "fab1a2cf-9be6-4130-bdcd-2e76dbf935c1",
   "metadata": {},
   "source": [
    "### <span style='color:red;'>EXERCISE 1</span>: LIST MATH (5 min)\n",
    "Make a list of numbers and then write some code to compute the average of the values and print it"
   ]
  },
  {
   "cell_type": "code",
   "execution_count": 23,
   "id": "9285633f-09d4-4131-9914-d591655b9211",
   "metadata": {},
   "outputs": [
    {
     "name": "stdout",
     "output_type": "stream",
     "text": [
      "35.5\n"
     ]
    }
   ],
   "source": [
    "meagan_list=(23,34,64,21)\n",
    "average=sum(meagan_list)/len(meagan_list)\n",
    "print(average)"
   ]
  },
  {
   "cell_type": "markdown",
   "id": "a7ee6b16-aaad-47ee-8fdc-0735ed937e48",
   "metadata": {},
   "source": [
    "## 3) Functions & libraries\n",
    "When you install Python, it includes a **built-in** set of **functions** and **libraries**\n",
    "- A **function** is a bit of code that takes an input, does something with it, and returns an output\n",
    "- A **library** is a collection of code that can dramatically extend the functionality Python\n",
    "\n",
    "A function uses parentheses () to input the **argument(s)**\n",
    "\n",
    "You already know (at least) one Python function from last time: print()"
   ]
  },
  {
   "cell_type": "code",
   "execution_count": 27,
   "id": "33350c64-710f-428c-9dcc-e08177922bea",
   "metadata": {},
   "outputs": [
    {
     "name": "stdout",
     "output_type": "stream",
     "text": [
      "hiiiii!!!\n"
     ]
    }
   ],
   "source": [
    "print('hiiiii!!!')"
   ]
  },
  {
   "cell_type": "markdown",
   "id": "dc4fa2de-5323-4105-a92e-20b6007e8743",
   "metadata": {},
   "source": [
    "### Finding help for a function\n",
    "1. use the help() function\n",
    "2. Google it!"
   ]
  },
  {
   "cell_type": "code",
   "execution_count": 28,
   "id": "95d71a63-193e-4fc5-8cd1-a64f9f956806",
   "metadata": {},
   "outputs": [
    {
     "name": "stdout",
     "output_type": "stream",
     "text": [
      "Help on built-in function print in module builtins:\n",
      "\n",
      "print(*args, sep=' ', end='\\n', file=None, flush=False)\n",
      "    Prints the values to a stream, or to sys.stdout by default.\n",
      "\n",
      "    sep\n",
      "      string inserted between values, default a space.\n",
      "    end\n",
      "      string appended after the last value, default a newline.\n",
      "    file\n",
      "      a file-like object (stream); defaults to the current sys.stdout.\n",
      "    flush\n",
      "      whether to forcibly flush the stream.\n",
      "\n"
     ]
    }
   ],
   "source": [
    "help(print)"
   ]
  },
  {
   "cell_type": "markdown",
   "id": "ca9fd567-7dbb-4f23-b1a2-b091991c2151",
   "metadata": {},
   "source": [
    "### Making your own function\n",
    "\n",
    "You can define your own functions! Let's see how that works..."
   ]
  },
  {
   "cell_type": "code",
   "execution_count": 38,
   "id": "d46d9df2-c5f0-4711-80e6-5bbe7cc24fa6",
   "metadata": {},
   "outputs": [],
   "source": [
    "def compute_average(meagan_list):\n",
    "    avg_value = sum(meagan_list) / len(meagan_list)\n",
    "    return avg_value"
   ]
  },
  {
   "cell_type": "markdown",
   "id": "6ce4ee16-7e81-44b1-afe0-30b2663856e0",
   "metadata": {},
   "source": [
    "OK now let's use our new function"
   ]
  },
  {
   "cell_type": "code",
   "execution_count": 39,
   "id": "2f35b883-600c-4ffc-b81f-d56257c628ff",
   "metadata": {},
   "outputs": [
    {
     "name": "stdout",
     "output_type": "stream",
     "text": [
      "239.75\n"
     ]
    }
   ],
   "source": [
    "avg_value = compute_average([40,234,250,435])\n",
    "print(avg_value)"
   ]
  },
  {
   "cell_type": "markdown",
   "id": "808b8360-efce-4f8c-8211-11c1497c9944",
   "metadata": {},
   "source": [
    "OK cool our function works, but let's imagine someone else using it, or you using it weeks from now...\n"
   ]
  },
  {
   "cell_type": "code",
   "execution_count": 40,
   "id": "ae7a517d-90c3-41e4-bc3a-87f1062c391d",
   "metadata": {},
   "outputs": [],
   "source": [
    "def compute_average(meagan_list):\n",
    "    \"\"\"\n",
    "    Calculates the average of numbers in meagan_list\n",
    "    inputs: meagan_list, must be a list of numbers\n",
    "\n",
    "    output: avg_value (scalar)\n",
    "    \"\"\"\n",
    "    assert type(meagan_list) == list\n",
    "    avg_value = sum(meagan_list) / len(meagan_list)\n",
    "    return avg_value"
   ]
  },
  {
   "cell_type": "code",
   "execution_count": 43,
   "id": "5c460ec2-3b07-4370-ae58-8362ca839577",
   "metadata": {},
   "outputs": [
    {
     "ename": "AssertionError",
     "evalue": "",
     "output_type": "error",
     "traceback": [
      "\u001b[31m---------------------------------------------------------------------------\u001b[39m",
      "\u001b[31mAssertionError\u001b[39m                            Traceback (most recent call last)",
      "\u001b[36mCell\u001b[39m\u001b[36m \u001b[39m\u001b[32mIn[43]\u001b[39m\u001b[32m, line 1\u001b[39m\n\u001b[32m----> \u001b[39m\u001b[32m1\u001b[39m \u001b[43mcompute_average\u001b[49m\u001b[43m(\u001b[49m\u001b[32;43m20\u001b[39;49m\u001b[43m)\u001b[49m\n",
      "\u001b[36mCell\u001b[39m\u001b[36m \u001b[39m\u001b[32mIn[40]\u001b[39m\u001b[32m, line 8\u001b[39m, in \u001b[36mcompute_average\u001b[39m\u001b[34m(meagan_list)\u001b[39m\n\u001b[32m      1\u001b[39m \u001b[38;5;28;01mdef\u001b[39;00m\u001b[38;5;250m \u001b[39m\u001b[34mcompute_average\u001b[39m(meagan_list):\n\u001b[32m      2\u001b[39m \u001b[38;5;250m    \u001b[39m\u001b[33;03m\"\"\"\u001b[39;00m\n\u001b[32m      3\u001b[39m \u001b[33;03m    Calculates the average of numbers in meagan_list\u001b[39;00m\n\u001b[32m      4\u001b[39m \u001b[33;03m    inputs: meagan_list, must be a list of numbers\u001b[39;00m\n\u001b[32m      5\u001b[39m \n\u001b[32m      6\u001b[39m \u001b[33;03m    output: avg_value (scalar)\u001b[39;00m\n\u001b[32m      7\u001b[39m \u001b[33;03m    \"\"\"\u001b[39;00m\n\u001b[32m----> \u001b[39m\u001b[32m8\u001b[39m     \u001b[38;5;28;01massert\u001b[39;00m \u001b[38;5;28mtype\u001b[39m(meagan_list) == \u001b[38;5;28mlist\u001b[39m\n\u001b[32m      9\u001b[39m     avg_value = \u001b[38;5;28msum\u001b[39m(meagan_list) / \u001b[38;5;28mlen\u001b[39m(meagan_list)\n\u001b[32m     10\u001b[39m     \u001b[38;5;28;01mreturn\u001b[39;00m avg_value\n",
      "\u001b[31mAssertionError\u001b[39m: "
     ]
    }
   ],
   "source": [
    "compute_average(20)"
   ]
  },
  {
   "cell_type": "markdown",
   "id": "e64184e6-8bc5-4cd9-9aa0-d00e4a25aca8",
   "metadata": {},
   "source": [
    "** Good functions help the user understand how to use them, and prevent users from mis-using them. Let's improve our function with some **documentation** and some **input validation**"
   ]
  },
  {
   "cell_type": "code",
   "execution_count": null,
   "id": "b0e0e0be-2f72-47e0-8997-237e4f59aac0",
   "metadata": {},
   "outputs": [],
   "source": []
  },
  {
   "cell_type": "code",
   "execution_count": null,
   "id": "fb291557-387d-497f-b0ba-2c092fd1c382",
   "metadata": {},
   "outputs": [],
   "source": []
  },
  {
   "cell_type": "code",
   "execution_count": null,
   "id": "ffbaf4a7-6695-4d94-8d57-c95ec1078ecf",
   "metadata": {},
   "outputs": [],
   "source": []
  },
  {
   "cell_type": "markdown",
   "id": "f69cb688-8905-4a3a-bd82-f6792f7ea354",
   "metadata": {},
   "source": [
    "## Libraries\n",
    "Python doesn't have that many **built-in** **functions** - they are listed here:\n",
    "https://docs.python.org/3/library/functions.html\n",
    "\n",
    "If this were all we were limited to, Python would not be very useful for the sciences\n",
    "\n",
    "Python is expandable because of **libraries**\n",
    "To use a **library** you need to first **import** it"
   ]
  },
  {
   "cell_type": "markdown",
   "id": "e50fb39b-26c5-461d-9ab2-cf2f87d9ec82",
   "metadata": {},
   "source": [
    "### Importing NumPy and Matplotlib\n",
    "Let's import two community libraries:\n",
    "- **numpy** is for numerical computing\n",
    "- **Matplotlib** is for plotting\n",
    "\n",
    "These libraries must be installed before you can use them. If you are using the full Anaconda distribution, you should already have **numpy** and **matplotlib**, if not, you may need to install it\n",
    "\n",
    "We'll import numpy and the plotting module of matplotlib, called pyplot, with a shortcut variable to refer to them..."
   ]
  },
  {
   "cell_type": "code",
   "execution_count": 53,
   "id": "42222f20-3b12-4ce1-ab00-a39286095aea",
   "metadata": {},
   "outputs": [],
   "source": [
    "import numpy as np\n",
    "import matplotlib.pyplot as plt"
   ]
  },
  {
   "cell_type": "code",
   "execution_count": 52,
   "id": "f08121b9-520a-4cf9-bb01-a9d519200adc",
   "metadata": {},
   "outputs": [
    {
     "name": "stdout",
     "output_type": "stream",
     "text": [
      "Requirement already satisfied: numpy in c:\\users\\meaga\\miniconda3\\lib\\site-packages (2.3.3)\n",
      "Note: you may need to restart the kernel to use updated packages.\n"
     ]
    }
   ],
   "source": [
    "%pip install numpy"
   ]
  },
  {
   "cell_type": "code",
   "execution_count": 51,
   "id": "2a2c9391-6f32-45f4-aa27-2bf3a42474f8",
   "metadata": {},
   "outputs": [
    {
     "name": "stdout",
     "output_type": "stream",
     "text": [
      "Collecting matplotlib\n",
      "  Downloading matplotlib-3.10.6-cp312-cp312-win_amd64.whl.metadata (11 kB)\n",
      "Collecting contourpy>=1.0.1 (from matplotlib)\n",
      "  Downloading contourpy-1.3.3-cp312-cp312-win_amd64.whl.metadata (5.5 kB)\n",
      "Collecting cycler>=0.10 (from matplotlib)\n",
      "  Using cached cycler-0.12.1-py3-none-any.whl.metadata (3.8 kB)\n",
      "Collecting fonttools>=4.22.0 (from matplotlib)\n",
      "  Downloading fonttools-4.60.1-cp312-cp312-win_amd64.whl.metadata (114 kB)\n",
      "     ---------------------------------------- 0.0/114.6 kB ? eta -:--:--\n",
      "     --- ------------------------------------ 10.2/114.6 kB ? eta -:--:--\n",
      "     ---------------- -------------------- 51.2/114.6 kB 650.2 kB/s eta 0:00:01\n",
      "     -------------------------------------- 114.6/114.6 kB 1.3 MB/s eta 0:00:00\n",
      "Collecting kiwisolver>=1.3.1 (from matplotlib)\n",
      "  Downloading kiwisolver-1.4.9-cp312-cp312-win_amd64.whl.metadata (6.4 kB)\n",
      "Requirement already satisfied: numpy>=1.23 in c:\\users\\meaga\\miniconda3\\lib\\site-packages (from matplotlib) (2.3.3)\n",
      "Requirement already satisfied: packaging>=20.0 in c:\\users\\meaga\\miniconda3\\lib\\site-packages (from matplotlib) (23.2)\n",
      "Collecting pillow>=8 (from matplotlib)\n",
      "  Downloading pillow-11.3.0-cp312-cp312-win_amd64.whl.metadata (9.2 kB)\n",
      "Collecting pyparsing>=2.3.1 (from matplotlib)\n",
      "  Downloading pyparsing-3.2.5-py3-none-any.whl.metadata (5.0 kB)\n",
      "Requirement already satisfied: python-dateutil>=2.7 in c:\\users\\meaga\\miniconda3\\lib\\site-packages (from matplotlib) (2.9.0.post0)\n",
      "Requirement already satisfied: six>=1.5 in c:\\users\\meaga\\miniconda3\\lib\\site-packages (from python-dateutil>=2.7->matplotlib) (1.17.0)\n",
      "Downloading matplotlib-3.10.6-cp312-cp312-win_amd64.whl (8.1 MB)\n",
      "   ---------------------------------------- 0.0/8.1 MB ? eta -:--:--\n",
      "   - -------------------------------------- 0.4/8.1 MB 11.9 MB/s eta 0:00:01\n",
      "   ---- ----------------------------------- 0.8/8.1 MB 10.5 MB/s eta 0:00:01\n",
      "   ------- -------------------------------- 1.5/8.1 MB 13.5 MB/s eta 0:00:01\n",
      "   ---------- ----------------------------- 2.1/8.1 MB 13.3 MB/s eta 0:00:01\n",
      "   -------------- ------------------------- 2.9/8.1 MB 14.3 MB/s eta 0:00:01\n",
      "   ----------------- ---------------------- 3.6/8.1 MB 14.3 MB/s eta 0:00:01\n",
      "   ---------------------- ----------------- 4.5/8.1 MB 15.1 MB/s eta 0:00:01\n",
      "   ------------------------- -------------- 5.2/8.1 MB 15.8 MB/s eta 0:00:01\n",
      "   ---------------------------- ----------- 5.9/8.1 MB 15.6 MB/s eta 0:00:01\n",
      "   -------------------------------- ------- 6.7/8.1 MB 15.8 MB/s eta 0:00:01\n",
      "   ------------------------------------ --- 7.4/8.1 MB 16.3 MB/s eta 0:00:01\n",
      "   ---------------------------------------  8.1/8.1 MB 16.2 MB/s eta 0:00:01\n",
      "   ---------------------------------------- 8.1/8.1 MB 15.3 MB/s eta 0:00:00\n",
      "Downloading contourpy-1.3.3-cp312-cp312-win_amd64.whl (226 kB)\n",
      "   ---------------------------------------- 0.0/226.6 kB ? eta -:--:--\n",
      "   --------------------------------------- 226.6/226.6 kB 13.5 MB/s eta 0:00:00\n",
      "Using cached cycler-0.12.1-py3-none-any.whl (8.3 kB)\n",
      "Downloading fonttools-4.60.1-cp312-cp312-win_amd64.whl (2.3 MB)\n",
      "   ---------------------------------------- 0.0/2.3 MB ? eta -:--:--\n",
      "   -------- ------------------------------- 0.5/2.3 MB 28.8 MB/s eta 0:00:01\n",
      "   -------------------------- ------------- 1.5/2.3 MB 23.9 MB/s eta 0:00:01\n",
      "   ---------------------------------------  2.3/2.3 MB 20.5 MB/s eta 0:00:01\n",
      "   ---------------------------------------- 2.3/2.3 MB 16.0 MB/s eta 0:00:00\n",
      "Downloading kiwisolver-1.4.9-cp312-cp312-win_amd64.whl (73 kB)\n",
      "   ---------------------------------------- 0.0/73.9 kB ? eta -:--:--\n",
      "   ---------------------------------------- 73.9/73.9 kB 4.0 MB/s eta 0:00:00\n",
      "Downloading pillow-11.3.0-cp312-cp312-win_amd64.whl (7.0 MB)\n",
      "   ---------------------------------------- 0.0/7.0 MB ? eta -:--:--\n",
      "   ---- ----------------------------------- 0.7/7.0 MB 23.8 MB/s eta 0:00:01\n",
      "   --------- ------------------------------ 1.6/7.0 MB 20.3 MB/s eta 0:00:01\n",
      "   -------------- ------------------------- 2.5/7.0 MB 19.6 MB/s eta 0:00:01\n",
      "   ------------------ --------------------- 3.3/7.0 MB 20.9 MB/s eta 0:00:01\n",
      "   ---------------------- ----------------- 4.0/7.0 MB 19.6 MB/s eta 0:00:01\n",
      "   --------------------------- ------------ 4.8/7.0 MB 19.2 MB/s eta 0:00:01\n",
      "   --------------------------------- ------ 5.9/7.0 MB 19.7 MB/s eta 0:00:01\n",
      "   ------------------------------------- -- 6.6/7.0 MB 20.2 MB/s eta 0:00:01\n",
      "   ---------------------------------------  7.0/7.0 MB 19.4 MB/s eta 0:00:01\n",
      "   ---------------------------------------- 7.0/7.0 MB 17.9 MB/s eta 0:00:00\n",
      "Downloading pyparsing-3.2.5-py3-none-any.whl (113 kB)\n",
      "   ---------------------------------------- 0.0/113.9 kB ? eta -:--:--\n",
      "   ---------------------------------------- 113.9/113.9 kB 6.9 MB/s eta 0:00:00\n",
      "Installing collected packages: pyparsing, pillow, kiwisolver, fonttools, cycler, contourpy, matplotlib\n",
      "Successfully installed contourpy-1.3.3 cycler-0.12.1 fonttools-4.60.1 kiwisolver-1.4.9 matplotlib-3.10.6 pillow-11.3.0 pyparsing-3.2.5\n",
      "Note: you may need to restart the kernel to use updated packages.\n"
     ]
    }
   ],
   "source": [
    "%pip install matplotlib "
   ]
  },
  {
   "cell_type": "markdown",
   "id": "3178f30e-59ff-45b3-bf57-3b5cf746821f",
   "metadata": {},
   "source": [
    "## 4) NumPy and Matplotlib"
   ]
  },
  {
   "cell_type": "markdown",
   "id": "a02341d4-584f-4187-bbfe-2cd8349cdc10",
   "metadata": {},
   "source": [
    "### Using arrays in Numpy\n",
    "One of the big advantages of Numpy is that it has built in data types called arrays, which can be 1D (like a vector) or n-dimensional (like a matrix)\n",
    "\n",
    "Let's start by making a 1D array..."
   ]
  },
  {
   "cell_type": "code",
   "execution_count": 56,
   "id": "60cc930d-3488-46af-a52b-3e471bc3d474",
   "metadata": {},
   "outputs": [
    {
     "name": "stdout",
     "output_type": "stream",
     "text": [
      "[5 6 7 8 3 7]\n",
      "<class 'numpy.ndarray'>\n"
     ]
    }
   ],
   "source": [
    "counts = np.array([5,6,7,8,3,7])\n",
    "print(counts)\n",
    "print(type(counts))"
   ]
  },
  {
   "cell_type": "markdown",
   "id": "c3113da4-6965-4686-a90f-c7600756a87d",
   "metadata": {},
   "source": [
    "Indexing into numpy arrays works much like with other containers like lists"
   ]
  },
  {
   "cell_type": "code",
   "execution_count": 57,
   "id": "cb5cec08-6843-4292-b830-148bcf45aa84",
   "metadata": {},
   "outputs": [
    {
     "data": {
      "text/plain": [
       "array([5, 6])"
      ]
     },
     "execution_count": 57,
     "metadata": {},
     "output_type": "execute_result"
    }
   ],
   "source": [
    "counts[0:2]"
   ]
  },
  {
   "cell_type": "markdown",
   "id": "0be60b8c-2b9b-46e4-aa53-ecd07d9fc753",
   "metadata": {},
   "source": [
    "numpy gives us access to tools for computations on our arrays"
   ]
  },
  {
   "cell_type": "code",
   "execution_count": 60,
   "id": "e296d4ce-f4d3-47fd-be72-f4b1771949e7",
   "metadata": {},
   "outputs": [
    {
     "name": "stdout",
     "output_type": "stream",
     "text": [
      "36\n",
      "6.0\n",
      "1.632993161855452\n"
     ]
    }
   ],
   "source": [
    "print(np.sum(counts))\n",
    "print(np.mean(counts))\n",
    "print(np.std(counts))"
   ]
  },
  {
   "cell_type": "markdown",
   "id": "1a51f61f-4525-4a53-ac04-ad672858db00",
   "metadata": {},
   "source": [
    "## <span style='color:red;'>EXERCISE 2</span>: LEARN NUMPY FUNCTIONS ON YOUR OWN (5 min)\n",
    "Use the wonders of the internet, or your intuition, to figure out how to compute the **median** and **variance** of _counts_ using numpy functions"
   ]
  },
  {
   "cell_type": "code",
   "execution_count": 63,
   "id": "d40cd0c3-2023-4877-950e-efc334e1bbe2",
   "metadata": {},
   "outputs": [
    {
     "name": "stdout",
     "output_type": "stream",
     "text": [
      "6.5\n",
      "2.6666666666666665\n"
     ]
    }
   ],
   "source": [
    "print(np.median(counts))\n",
    "print(np.var(counts))"
   ]
  },
  {
   "cell_type": "markdown",
   "id": "f19c9ad6-9c52-4cbe-8b39-064de571ece4",
   "metadata": {},
   "source": [
    "## matrices (ndarrays)\n",
    "Numpy also allows you to create matrices / n-dimensional arrays.\n",
    "Let's create a matrix to see how they work..."
   ]
  },
  {
   "cell_type": "code",
   "execution_count": 65,
   "id": "8b028ba6-3d0a-4a09-bf56-8ee4eee3bf25",
   "metadata": {},
   "outputs": [
    {
     "name": "stdout",
     "output_type": "stream",
     "text": [
      "[[1 2 3]\n",
      " [7 8 9]\n",
      " [9 2 5]]\n"
     ]
    }
   ],
   "source": [
    "mat = np.array([[1,2,3],[7,8,9],[9,2,5]])\n",
    "print(mat)"
   ]
  },
  {
   "cell_type": "code",
   "execution_count": 66,
   "id": "9dc6a7b5-1bc6-4084-9d1e-35a8be45fd0e",
   "metadata": {},
   "outputs": [
    {
     "data": {
      "text/plain": [
       "(3, 3)"
      ]
     },
     "execution_count": 66,
     "metadata": {},
     "output_type": "execute_result"
    }
   ],
   "source": [
    "mat.shape"
   ]
  },
  {
   "cell_type": "markdown",
   "id": "8f9c1ae1-cedb-4922-8f7b-f5e6111a6a92",
   "metadata": {},
   "source": [
    "## <span style='color:red;'>EXERCISE 3</span>: LEARN NUMPY FUNCTIONS ON YOUR OWN PT 2 (5 min)\n",
    "Look up the numpy.mean() documentation to figure out how to compute the mean...\n",
    "- across all rows (should be an array of length 3)\n",
    "- across all columns (should be an array of length 4) \n",
    "- across the whole matrix (should be a single, scalar number)\n",
    "\n",
    "https://numpy.org/doc/2.3/reference/generated/numpy.mean.html"
   ]
  },
  {
   "cell_type": "code",
   "execution_count": 67,
   "id": "b637b563-ab83-49fa-b1ca-f235b57f1eac",
   "metadata": {},
   "outputs": [
    {
     "data": {
      "text/plain": [
       "np.float64(5.111111111111111)"
      ]
     },
     "execution_count": 67,
     "metadata": {},
     "output_type": "execute_result"
    }
   ],
   "source": [
    "np.mean(mat)"
   ]
  },
  {
   "cell_type": "code",
   "execution_count": 69,
   "id": "95a63c2f-42e1-41c2-817f-31002ec9276c",
   "metadata": {},
   "outputs": [
    {
     "data": {
      "text/plain": [
       "array([5.66666667, 4.        , 5.66666667])"
      ]
     },
     "execution_count": 69,
     "metadata": {},
     "output_type": "execute_result"
    }
   ],
   "source": [
    "np.mean(mat, axis=0)"
   ]
  },
  {
   "cell_type": "markdown",
   "id": "64bb0743-5df6-43cf-8aa8-d52125da32f3",
   "metadata": {},
   "source": [
    "## Random numbers in numpy\n",
    "numpy has functions for generating pseudo-random numbers. Let's try one by plucking random numbers from a uniform distribution\n",
    "\n",
    "Then we'll use **pyplot** to plot a histogram. Note there are lots of ways to create figure and axis objects with pyplot but I will teach you what I think is the most explicit (and best) way..."
   ]
  },
  {
   "cell_type": "code",
   "execution_count": 77,
   "id": "d994d923-a381-4393-9d8e-7ee05fe25bca",
   "metadata": {},
   "outputs": [
    {
     "data": {
      "text/plain": [
       "Text(0, 0.5, 'Count')"
      ]
     },
     "execution_count": 77,
     "metadata": {},
     "output_type": "execute_result"
    },
    {
     "data": {
      "image/png": "[encoded data removed]",
      "text/plain": [
       "<Figure size 400x400 with 1 Axes>"
      ]
     },
     "metadata": {},
     "output_type": "display_data"
    }
   ],
   "source": [
    "values = np.random.uniform (low=0, high=1, size=1000)\n",
    "\n",
    "fig, ax = plt.subplots(1,1, figsize=(4,4))\n",
    "ax.hist(values)\n",
    "ax.set_xlabel('Random Value')\n",
    "ax.set_ylabel('Count')"
   ]
  },
  {
   "cell_type": "markdown",
   "id": "0e958bef-5671-4077-b3cc-472c37f487fb",
   "metadata": {},
   "source": [
    "## <span style='color:red;'>EXERCISE 4</span>: LEARN NUMPY FUNCTIONS ON YOUR OWN PT 3 (5 min)\n",
    "Look up the documentation for numpy.random distributions to see what random distributions numpy can draw from. Pick a distribution and some parameters, and then plot a histogram of 1000 draws from that distribution\n",
    "\n",
    "https://numpy.org/doc/2.1/reference/random/generator.html#distributions"
   ]
  },
  {
   "cell_type": "code",
   "execution_count": 89,
   "id": "81570eb1-9446-4275-b47c-55a124d7e692",
   "metadata": {},
   "outputs": [],
   "source": [
    "values = np.random.binomial(1000, 0.5, size=None)"
   ]
  },
  {
   "cell_type": "markdown",
   "id": "73b2cfd3-3792-4874-98a1-ee2a26bc1d99",
   "metadata": {},
   "source": [
    "## BONUS: Modeling bacterial growth\n",
    "\n",
    "You are growing E. coli in a flask, and you measure optical density of the bacterial suspension using a spectrophotometer every 30 minutes for 5 hours.\n",
    "The optical density is directly related to the number of bacteria in the suspension"
   ]
  },
  {
   "cell_type": "code",
   "execution_count": null,
   "id": "ec1a5ce6-ca3e-4949-8493-aaaca163ab38",
   "metadata": {},
   "outputs": [],
   "source": [
    "time_points = np.array([0, 0.5, 1, 1.5, 2, 2.5, 3, 3.5, 4, 4.5, 5])\n",
    "optical_density = [30, 45, 92, 198, 404, 838, 1705, 3120, 3780, 4100, 4400]"
   ]
  },
  {
   "cell_type": "markdown",
   "id": "35fbe336-ecdf-433a-a419-54353d91d025",
   "metadata": {},
   "source": [
    "Let's plot the data using **pyplot**\n"
   ]
  },
  {
   "cell_type": "code",
   "execution_count": null,
   "id": "f0739d98-a892-4a16-b02e-f541faa31773",
   "metadata": {},
   "outputs": [],
   "source": []
  },
  {
   "cell_type": "markdown",
   "id": "64e4fce0-6f5d-44a9-9606-6804710572a8",
   "metadata": {},
   "source": [
    "Part of this growth curve is the **exponential phase**, where the number of bacteria double at regular intervals. This interval is called the doubling time\n",
    "\n",
    "**N(t) = N_0 * 2^(t/T_d)**\n",
    "- N(t) is the number of bacteria as a function of time, t\n",
    "- N_0 is the initial number of bacteria\n",
    "- T_d is the doubling time"
   ]
  },
  {
   "cell_type": "markdown",
   "id": "fa5be619-0c4e-4c94-8fb5-6a3c434410a5",
   "metadata": {},
   "source": [
    "\n",
    "Let's transform our optical density by log2...\n",
    "This makes our equation\n",
    "\n",
    "Log2(N(t)) = Log2(N_0) + t/T_D\n",
    "\n",
    "which is linear, of the form Y = mx + b, where the **slope m = 1/T_d**\n"
   ]
  },
  {
   "cell_type": "code",
   "execution_count": null,
   "id": "6d998334-4d11-423f-9f54-cc7e770e5bcf",
   "metadata": {},
   "outputs": [],
   "source": []
  },
  {
   "cell_type": "markdown",
   "id": "4fae8343-832c-4d57-912f-8a42340250ac",
   "metadata": {},
   "source": [
    "Now we're going to fit a line to our log-transformed data to estimate the doubling time. First note that the exponential phase is between about 0.5 and 3 hours..."
   ]
  },
  {
   "cell_type": "code",
   "execution_count": null,
   "id": "06f4849d-9b4d-488c-ab38-6d69ee4f9a38",
   "metadata": {},
   "outputs": [],
   "source": []
  },
  {
   "cell_type": "code",
   "execution_count": null,
   "id": "49bc7995-7612-4e94-b206-9ef0cfb1303d",
   "metadata": {},
   "outputs": [],
   "source": []
  }
 ],
 "metadata": {
  "kernelspec": {
   "display_name": "Python 3 (ipykernel)",
   "language": "python",
   "name": "python3"
  },
  "language_info": {
   "codemirror_mode": {
    "name": "ipython",
    "version": 3
   },
   "file_extension": ".py",
   "mimetype": "text/x-python",
   "name": "python",
   "nbconvert_exporter": "python",
   "pygments_lexer": "ipython3",
   "version": "3.12.3"
  }
 },
 "nbformat": 4,
 "nbformat_minor": 5
}
