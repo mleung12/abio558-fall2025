{
 "cells": [
  {
   "cell_type": "markdown",
   "id": "47f50eae-6f41-4b28-9488-b72c216aab4d",
   "metadata": {},
   "source": [
    "# 2.7 - Models and machine learning\n",
    "\n",
    "### Learning goals for today\n",
    "1. Understand how to fit models to data, and use those models to make predictions\n",
    "2. Use machine learning models to classify large datasets\n",
    "\n",
    "---\n",
    "### How to use this notebook during class\n",
    "- Follow along as we go\n",
    "- Use your **Cards** to indicate where you're at:\n",
    "    - A **🟩Green card** means you are caught up with Max and **ready to help your classmates**\n",
    "    - A **🟥Red card** means you are stuck and need help\n",
    "- <span style='color:red;'>EXERCISE</span> — work on this problem by yourself, or try with a partner if you get stuck\n",
    "---\n"
   ]
  },
  {
   "cell_type": "markdown",
   "id": "920cdde1-1041-4586-9de2-ccbc817e89ea",
   "metadata": {},
   "source": [
    "First let's import some libraries we will use today. Remember if you don't have a library installed you can pip install it with:\n",
    "\n",
    "%pip install *package_name*"
   ]
  },
  {
   "cell_type": "code",
   "execution_count": 10,
   "id": "7487d9fb-4ba7-409a-9ba5-5781e2aef825",
   "metadata": {},
   "outputs": [],
   "source": [
    "import numpy as np\n",
    "import matplotlib.pyplot as plt\n",
    "import pandas as pd\n",
    "import seaborn as sns\n",
    "from scipy import stats"
   ]
  },
  {
   "cell_type": "markdown",
   "id": "ae98cceb-a919-441d-bd4b-55a061ecbbc8",
   "metadata": {},
   "source": [
    "## 1) Beak size inheritance - predictive models\n",
    "\n",
    "The Grants also collected data about beak size of parents and offspring finches. We'll use this data to introduce the idea of building predictive models for data\n"
   ]
  },
  {
   "cell_type": "code",
   "execution_count": 11,
   "id": "ab016661-d85c-4621-80b4-ead9a702ac47",
   "metadata": {
    "scrolled": true
   },
   "outputs": [
    {
     "data": {
      "text/html": [
       "<div>\n",
       "<style scoped>\n",
       "    .dataframe tbody tr th:only-of-type {\n",
       "        vertical-align: middle;\n",
       "    }\n",
       "\n",
       "    .dataframe tbody tr th {\n",
       "        vertical-align: top;\n",
       "    }\n",
       "\n",
       "    .dataframe thead th {\n",
       "        text-align: right;\n",
       "    }\n",
       "</style>\n",
       "<table border=\"1\" class=\"dataframe\">\n",
       "  <thead>\n",
       "    <tr style=\"text-align: right;\">\n",
       "      <th></th>\n",
       "      <th>species</th>\n",
       "      <th>offspring beak depth (mm)</th>\n",
       "      <th>parent beak depth (mm)</th>\n",
       "    </tr>\n",
       "  </thead>\n",
       "  <tbody>\n",
       "    <tr>\n",
       "      <th>0</th>\n",
       "      <td>fortis</td>\n",
       "      <td>10.7000</td>\n",
       "      <td>10.1000</td>\n",
       "    </tr>\n",
       "    <tr>\n",
       "      <th>1</th>\n",
       "      <td>fortis</td>\n",
       "      <td>9.7800</td>\n",
       "      <td>9.5500</td>\n",
       "    </tr>\n",
       "    <tr>\n",
       "      <th>2</th>\n",
       "      <td>fortis</td>\n",
       "      <td>9.4800</td>\n",
       "      <td>9.4000</td>\n",
       "    </tr>\n",
       "    <tr>\n",
       "      <th>3</th>\n",
       "      <td>fortis</td>\n",
       "      <td>9.6000</td>\n",
       "      <td>10.2500</td>\n",
       "    </tr>\n",
       "    <tr>\n",
       "      <th>4</th>\n",
       "      <td>fortis</td>\n",
       "      <td>10.2700</td>\n",
       "      <td>10.1250</td>\n",
       "    </tr>\n",
       "    <tr>\n",
       "      <th>...</th>\n",
       "      <td>...</td>\n",
       "      <td>...</td>\n",
       "      <td>...</td>\n",
       "    </tr>\n",
       "    <tr>\n",
       "      <th>538</th>\n",
       "      <td>scandens</td>\n",
       "      <td>9.4899</td>\n",
       "      <td>9.6516</td>\n",
       "    </tr>\n",
       "    <tr>\n",
       "      <th>539</th>\n",
       "      <td>scandens</td>\n",
       "      <td>9.5962</td>\n",
       "      <td>9.7572</td>\n",
       "    </tr>\n",
       "    <tr>\n",
       "      <th>540</th>\n",
       "      <td>scandens</td>\n",
       "      <td>9.6873</td>\n",
       "      <td>9.8854</td>\n",
       "    </tr>\n",
       "    <tr>\n",
       "      <th>541</th>\n",
       "      <td>scandens</td>\n",
       "      <td>9.5203</td>\n",
       "      <td>10.0023</td>\n",
       "    </tr>\n",
       "    <tr>\n",
       "      <th>542</th>\n",
       "      <td>scandens</td>\n",
       "      <td>9.6646</td>\n",
       "      <td>9.3914</td>\n",
       "    </tr>\n",
       "  </tbody>\n",
       "</table>\n",
       "<p>543 rows × 3 columns</p>\n",
       "</div>"
      ],
      "text/plain": [
       "      species  offspring beak depth (mm)  parent beak depth (mm)\n",
       "0      fortis                    10.7000                 10.1000\n",
       "1      fortis                     9.7800                  9.5500\n",
       "2      fortis                     9.4800                  9.4000\n",
       "3      fortis                     9.6000                 10.2500\n",
       "4      fortis                    10.2700                 10.1250\n",
       "..        ...                        ...                     ...\n",
       "538  scandens                     9.4899                  9.6516\n",
       "539  scandens                     9.5962                  9.7572\n",
       "540  scandens                     9.6873                  9.8854\n",
       "541  scandens                     9.5203                 10.0023\n",
       "542  scandens                     9.6646                  9.3914\n",
       "\n",
       "[543 rows x 3 columns]"
      ]
     },
     "execution_count": 11,
     "metadata": {},
     "output_type": "execute_result"
    }
   ],
   "source": [
    "heredity_df = pd.read_csv('grant_heredity.csv')\n",
    "heredity_df"
   ]
  },
  {
   "cell_type": "code",
   "execution_count": 3,
   "id": "b7683ced-7737-4b0f-a959-9155c2746d8a",
   "metadata": {},
   "outputs": [
    {
     "data": {
      "text/plain": [
       "<Axes: xlabel='parent beak depth (mm)', ylabel='offspring beak depth (mm)'>"
      ]
     },
     "execution_count": 3,
     "metadata": {},
     "output_type": "execute_result"
    },
    {
     "data": {
      "image/png": "[encoded data removed]",
      "text/plain": [
       "<Figure size 640x480 with 1 Axes>"
      ]
     },
     "metadata": {},
     "output_type": "display_data"
    }
   ],
   "source": [
    "sns.scatterplot(data=heredity_df,\n",
    "                x='parent beak depth (mm)',\n",
    "                y='offspring beak depth (mm)',\n",
    "                hue='species')"
   ]
  },
  {
   "cell_type": "markdown",
   "id": "d168076f-6482-42c5-80e9-a444b2312b1f",
   "metadata": {},
   "source": [
    "### <span style='color:red;'>EXERCISE 1</span>: Compute linear correlation coefficient  (5 min)\n",
    "\n",
    "Let's **describe** the relationship between these two using the linear correlation coefficient. Use scipy.stats.pearsonr to compute the linear correlation coefficient between parent and offpsring beak depth, and print it\n",
    "\n",
    "https://docs.scipy.org/doc/scipy/reference/generated/scipy.stats.pearsonr.html"
   ]
  },
  {
   "cell_type": "code",
   "execution_count": 19,
   "id": "aad74f9b-a1e0-4b28-98b1-b2f1bbb18b9a",
   "metadata": {},
   "outputs": [
    {
     "name": "stdout",
     "output_type": "stream",
     "text": [
      "0.7097401211174013 2.36993237832448e-84\n"
     ]
    }
   ],
   "source": [
    "r,p = stats.pearsonr(heredity_df['parent beak depth (mm)'], \n",
    "                     heredity_df['offspring beak depth (mm)'], \n",
    "                     alternative='two-sided', \n",
    "                     method=None, \n",
    "                     axis=0)\n",
    "print(r,p)"
   ]
  },
  {
   "cell_type": "markdown",
   "id": "5be398d9-ce45-4bc4-ba0d-74cba8417f1d",
   "metadata": {},
   "source": [
    "What if we want to **predict** one value given another - for that we need a **model**\n",
    "\n",
    "Today we'll use the **scikit-learn** library, which has lots of machine learning tools\n",
    "\n",
    "This looks like a linear relationship so we'll try a very simple linear model to predict offpsring beak depth\n",
    "\n",
    "If you  need to install it, do so with ...\n",
    "\n",
    "`%pip install scikit-learn`"
   ]
  },
  {
   "cell_type": "code",
   "execution_count": 24,
   "id": "cb99ff7d-b9ba-4b84-8ca3-f6c4dd8eb80c",
   "metadata": {},
   "outputs": [
    {
     "name": "stdout",
     "output_type": "stream",
     "text": [
      "Requirement already satisfied: scikit-learn in c:\\users\\meaga\\miniconda3\\lib\\site-packages (1.7.2)\n",
      "Requirement already satisfied: numpy>=1.22.0 in c:\\users\\meaga\\miniconda3\\lib\\site-packages (from scikit-learn) (2.3.3)\n",
      "Requirement already satisfied: scipy>=1.8.0 in c:\\users\\meaga\\miniconda3\\lib\\site-packages (from scikit-learn) (1.16.2)\n",
      "Requirement already satisfied: joblib>=1.2.0 in c:\\users\\meaga\\miniconda3\\lib\\site-packages (from scikit-learn) (1.5.2)\n",
      "Requirement already satisfied: threadpoolctl>=3.1.0 in c:\\users\\meaga\\miniconda3\\lib\\site-packages (from scikit-learn) (3.6.0)\n",
      "Note: you may need to restart the kernel to use updated packages.\n"
     ]
    }
   ],
   "source": [
    "%pip install scikit-learn\n",
    "from sklearn import linear_model\n",
    "from sklearn.model_selection import train_test_split"
   ]
  },
  {
   "cell_type": "markdown",
   "id": "089b83e6-6682-42f9-b1fb-75f56c10bddf",
   "metadata": {},
   "source": [
    "### Getting the data ready\n",
    "we need a features matrix, (by convention we'll call it X), which is shape = (n_samples, n_features), for us n_features will be 1\n",
    "\n",
    "and a values matrix (y), which will be length n_samples and is the thing we're trying to predict"
   ]
  },
  {
   "cell_type": "code",
   "execution_count": 30,
   "id": "4f1f35f4-69e8-4719-b7d6-fa0559f74465",
   "metadata": {},
   "outputs": [
    {
     "data": {
      "text/plain": [
       "(543, 1)"
      ]
     },
     "execution_count": 30,
     "metadata": {},
     "output_type": "execute_result"
    }
   ],
   "source": [
    "X = heredity_df['parent beak depth (mm)'].values[:, np.newaxis]\n",
    "y = heredity_df['offspring beak depth (mm)'].values[:, np.newaxis]\n",
    "X.shape"
   ]
  },
  {
   "cell_type": "markdown",
   "id": "28950fa6-b59e-413e-a0e9-daa9b7c61b6c",
   "metadata": {},
   "source": [
    "The goal here is to build a linear model that can use parent beak depth (X) to predict offpsring beak depth (y). The basic steps are:\n",
    "1. Split the samples into training and testing data\n",
    "2. Define a model\n",
    "3. Fit the model (optimize)\n",
    "4. Use the model to predict the testing data\n",
    "5. Evaluate the performance (compare predictions vs. real test data) - Exercise\n",
    "\n",
    "Let's first write **pseudo-code**, then we'll fill it in with real code. A benefit of this strategy is that you can plan the approach without knowing all the syntax yet, and look up what syntax you are missing"
   ]
  },
  {
   "cell_type": "code",
   "execution_count": 31,
   "id": "7bf9be88-8f8a-4090-92c6-d30a301b288f",
   "metadata": {},
   "outputs": [],
   "source": [
    "# Split X (features) and y into test (20%) and training data (80%)\n",
    "X_train, X_test, y_train, y_test = train_test_split(X, y, test_size=0.20)\n",
    "\n",
    "# Fit a linear regression model to the training data (X)\n",
    "regr = linear_model.LinearRegression()\n",
    "regr.fit(X_train, y_train)\n",
    "\n",
    "# Predict y for the test data\n",
    "y_predicted = regr.predict(X_test)"
   ]
  },
  {
   "cell_type": "markdown",
   "id": "beed4d71-06c5-49b5-a81c-98c9e795827c",
   "metadata": {},
   "source": [
    "### <span style='color:red;'>EXERCISE 2</span>: Compute the fraction of explained variance  (10 min)\n",
    "\n",
    "Use google or your favorite LLM (UAlbany has a Copilot license) to figure out how to compute the fraction of variance explained by our model in sklearn. Computing this will require using y_test and y_predicted"
   ]
  },
  {
   "cell_type": "code",
   "execution_count": 33,
   "id": "0ca4a553-8270-4073-a710-1c86b3f68771",
   "metadata": {},
   "outputs": [
    {
     "name": "stdout",
     "output_type": "stream",
     "text": [
      "0.4630090395077483\n"
     ]
    }
   ],
   "source": [
    "# Evaluate the performace: fraction of variance explained by the model\n",
    "from sklearn.metrics import explained_variance_score\n",
    "\n",
    "frac_var_explained = explained_variance_score(y_test, y_predicted)\n",
    "print(frac_var_explained)"
   ]
  },
  {
   "cell_type": "markdown",
   "id": "52688a6d-483f-4b5c-8012-0e1b3e26dda4",
   "metadata": {},
   "source": [
    "In addition to quantifying overall performance, it's a good idea to examine the predictions compared to the true values, to see what your model is doing. We'll do that with two plots:\n",
    "1. Predicted vs. test values\n",
    "2. The difference between predicted and true values (\"residuals\") as a function of the predicted values"
   ]
  },
  {
   "cell_type": "code",
   "execution_count": 38,
   "id": "6d80d6c6-5a0e-49fe-a9f2-c9ee1f538593",
   "metadata": {},
   "outputs": [
    {
     "data": {
      "text/plain": [
       "Text(0, 0.5, 'True')"
      ]
     },
     "execution_count": 38,
     "metadata": {},
     "output_type": "execute_result"
    },
    {
     "data": {
      "image/png": "[encoded data removed]",
      "text/plain": [
       "<Figure size 400x400 with 1 Axes>"
      ]
     },
     "metadata": {},
     "output_type": "display_data"
    }
   ],
   "source": [
    "# Plot predictions vs real values for test data\n",
    "fh, ax = plt.subplots(1, 1, figsize=(4,4))\n",
    "ax.plot(y_predicted, y_test, 'ko')\n",
    "ax.plot([7,12],[7,12],'k--')\n",
    "ax.set_xlabel('Predicted')\n",
    "ax.set_ylabel('True')"
   ]
  },
  {
   "cell_type": "code",
   "execution_count": 39,
   "id": "f1649ee2-c043-47e2-9fea-dd1f8898f969",
   "metadata": {},
   "outputs": [
    {
     "data": {
      "text/plain": [
       "Text(0, 0.5, 'Residuals')"
      ]
     },
     "execution_count": 39,
     "metadata": {},
     "output_type": "execute_result"
    },
    {
     "data": {
      "image/png": "[encoded data removed]",
      "text/plain": [
       "<Figure size 400x400 with 1 Axes>"
      ]
     },
     "metadata": {},
     "output_type": "display_data"
    }
   ],
   "source": [
    "residuals = y_test - y_predicted\n",
    "\n",
    "fh, ax = plt.subplots(1, 1, figsize=(4,4))\n",
    "ax.plot(y_predicted, residuals, 'ko')\n",
    "ax.set_xlabel('Predicted')\n",
    "ax.set_ylabel('Residuals')"
   ]
  },
  {
   "cell_type": "markdown",
   "id": "433cdc4e-2c4c-4343-a871-aaefb3e63640",
   "metadata": {},
   "source": [
    "There is no clear relationship between the predicted values and the residuals, which is good. It means our model isn't systematically wrong"
   ]
  },
  {
   "cell_type": "markdown",
   "id": "98e36b6a-36d2-42a3-bbfe-53a5ae748ab8",
   "metadata": {},
   "source": [
    "### Adding another feature\n",
    "We also have information about the species of the parent/offspring pair - let's see if we can provide this information to the model to see if it helps its predictions.\n",
    "\n",
    "Conceptually, we want to use **two** features now to predict `offspring_beak_depth`:\n",
    "\n",
    "1. `parent_beak_depth`\n",
    "2. `species`\n",
    "\n",
    "But (1) is a number, and (2) is a category. How do we train a model on a combination of numbers and categories? One strategy is called **one-hot encoding** where we have a new feature for each category, and each sample has a 1 for its category and 0s everywhere else"
   ]
  },
  {
   "cell_type": "code",
   "execution_count": 44,
   "id": "0dd9b4c2-30ac-4c4e-b3cb-8c9d91e23d58",
   "metadata": {},
   "outputs": [
    {
     "data": {
      "text/html": [
       "<div>\n",
       "<style scoped>\n",
       "    .dataframe tbody tr th:only-of-type {\n",
       "        vertical-align: middle;\n",
       "    }\n",
       "\n",
       "    .dataframe tbody tr th {\n",
       "        vertical-align: top;\n",
       "    }\n",
       "\n",
       "    .dataframe thead th {\n",
       "        text-align: right;\n",
       "    }\n",
       "</style>\n",
       "<table border=\"1\" class=\"dataframe\">\n",
       "  <thead>\n",
       "    <tr style=\"text-align: right;\">\n",
       "      <th></th>\n",
       "      <th>fortis</th>\n",
       "      <th>scandens</th>\n",
       "    </tr>\n",
       "  </thead>\n",
       "  <tbody>\n",
       "    <tr>\n",
       "      <th>0</th>\n",
       "      <td>1</td>\n",
       "      <td>0</td>\n",
       "    </tr>\n",
       "    <tr>\n",
       "      <th>1</th>\n",
       "      <td>1</td>\n",
       "      <td>0</td>\n",
       "    </tr>\n",
       "    <tr>\n",
       "      <th>2</th>\n",
       "      <td>1</td>\n",
       "      <td>0</td>\n",
       "    </tr>\n",
       "    <tr>\n",
       "      <th>3</th>\n",
       "      <td>1</td>\n",
       "      <td>0</td>\n",
       "    </tr>\n",
       "    <tr>\n",
       "      <th>4</th>\n",
       "      <td>1</td>\n",
       "      <td>0</td>\n",
       "    </tr>\n",
       "    <tr>\n",
       "      <th>...</th>\n",
       "      <td>...</td>\n",
       "      <td>...</td>\n",
       "    </tr>\n",
       "    <tr>\n",
       "      <th>538</th>\n",
       "      <td>0</td>\n",
       "      <td>1</td>\n",
       "    </tr>\n",
       "    <tr>\n",
       "      <th>539</th>\n",
       "      <td>0</td>\n",
       "      <td>1</td>\n",
       "    </tr>\n",
       "    <tr>\n",
       "      <th>540</th>\n",
       "      <td>0</td>\n",
       "      <td>1</td>\n",
       "    </tr>\n",
       "    <tr>\n",
       "      <th>541</th>\n",
       "      <td>0</td>\n",
       "      <td>1</td>\n",
       "    </tr>\n",
       "    <tr>\n",
       "      <th>542</th>\n",
       "      <td>0</td>\n",
       "      <td>1</td>\n",
       "    </tr>\n",
       "  </tbody>\n",
       "</table>\n",
       "<p>543 rows × 2 columns</p>\n",
       "</div>"
      ],
      "text/plain": [
       "     fortis  scandens\n",
       "0         1         0\n",
       "1         1         0\n",
       "2         1         0\n",
       "3         1         0\n",
       "4         1         0\n",
       "..      ...       ...\n",
       "538       0         1\n",
       "539       0         1\n",
       "540       0         1\n",
       "541       0         1\n",
       "542       0         1\n",
       "\n",
       "[543 rows x 2 columns]"
      ]
     },
     "execution_count": 44,
     "metadata": {},
     "output_type": "execute_result"
    }
   ],
   "source": [
    "one_hot_species = pd.get_dummies(heredity_df['species']).astype('int')\n",
    "one_hot_species"
   ]
  },
  {
   "cell_type": "code",
   "execution_count": 45,
   "id": "847fdfb8-9dab-4f50-8046-1a48bdb49265",
   "metadata": {},
   "outputs": [
    {
     "data": {
      "text/html": [
       "<div>\n",
       "<style scoped>\n",
       "    .dataframe tbody tr th:only-of-type {\n",
       "        vertical-align: middle;\n",
       "    }\n",
       "\n",
       "    .dataframe tbody tr th {\n",
       "        vertical-align: top;\n",
       "    }\n",
       "\n",
       "    .dataframe thead th {\n",
       "        text-align: right;\n",
       "    }\n",
       "</style>\n",
       "<table border=\"1\" class=\"dataframe\">\n",
       "  <thead>\n",
       "    <tr style=\"text-align: right;\">\n",
       "      <th></th>\n",
       "      <th>species</th>\n",
       "      <th>offspring beak depth (mm)</th>\n",
       "      <th>parent beak depth (mm)</th>\n",
       "      <th>fortis</th>\n",
       "      <th>scandens</th>\n",
       "    </tr>\n",
       "  </thead>\n",
       "  <tbody>\n",
       "    <tr>\n",
       "      <th>0</th>\n",
       "      <td>fortis</td>\n",
       "      <td>10.7000</td>\n",
       "      <td>10.1000</td>\n",
       "      <td>1</td>\n",
       "      <td>0</td>\n",
       "    </tr>\n",
       "    <tr>\n",
       "      <th>1</th>\n",
       "      <td>fortis</td>\n",
       "      <td>9.7800</td>\n",
       "      <td>9.5500</td>\n",
       "      <td>1</td>\n",
       "      <td>0</td>\n",
       "    </tr>\n",
       "    <tr>\n",
       "      <th>2</th>\n",
       "      <td>fortis</td>\n",
       "      <td>9.4800</td>\n",
       "      <td>9.4000</td>\n",
       "      <td>1</td>\n",
       "      <td>0</td>\n",
       "    </tr>\n",
       "    <tr>\n",
       "      <th>3</th>\n",
       "      <td>fortis</td>\n",
       "      <td>9.6000</td>\n",
       "      <td>10.2500</td>\n",
       "      <td>1</td>\n",
       "      <td>0</td>\n",
       "    </tr>\n",
       "    <tr>\n",
       "      <th>4</th>\n",
       "      <td>fortis</td>\n",
       "      <td>10.2700</td>\n",
       "      <td>10.1250</td>\n",
       "      <td>1</td>\n",
       "      <td>0</td>\n",
       "    </tr>\n",
       "    <tr>\n",
       "      <th>...</th>\n",
       "      <td>...</td>\n",
       "      <td>...</td>\n",
       "      <td>...</td>\n",
       "      <td>...</td>\n",
       "      <td>...</td>\n",
       "    </tr>\n",
       "    <tr>\n",
       "      <th>538</th>\n",
       "      <td>scandens</td>\n",
       "      <td>9.4899</td>\n",
       "      <td>9.6516</td>\n",
       "      <td>0</td>\n",
       "      <td>1</td>\n",
       "    </tr>\n",
       "    <tr>\n",
       "      <th>539</th>\n",
       "      <td>scandens</td>\n",
       "      <td>9.5962</td>\n",
       "      <td>9.7572</td>\n",
       "      <td>0</td>\n",
       "      <td>1</td>\n",
       "    </tr>\n",
       "    <tr>\n",
       "      <th>540</th>\n",
       "      <td>scandens</td>\n",
       "      <td>9.6873</td>\n",
       "      <td>9.8854</td>\n",
       "      <td>0</td>\n",
       "      <td>1</td>\n",
       "    </tr>\n",
       "    <tr>\n",
       "      <th>541</th>\n",
       "      <td>scandens</td>\n",
       "      <td>9.5203</td>\n",
       "      <td>10.0023</td>\n",
       "      <td>0</td>\n",
       "      <td>1</td>\n",
       "    </tr>\n",
       "    <tr>\n",
       "      <th>542</th>\n",
       "      <td>scandens</td>\n",
       "      <td>9.6646</td>\n",
       "      <td>9.3914</td>\n",
       "      <td>0</td>\n",
       "      <td>1</td>\n",
       "    </tr>\n",
       "  </tbody>\n",
       "</table>\n",
       "<p>543 rows × 5 columns</p>\n",
       "</div>"
      ],
      "text/plain": [
       "      species  offspring beak depth (mm)  parent beak depth (mm)  fortis  \\\n",
       "0      fortis                    10.7000                 10.1000       1   \n",
       "1      fortis                     9.7800                  9.5500       1   \n",
       "2      fortis                     9.4800                  9.4000       1   \n",
       "3      fortis                     9.6000                 10.2500       1   \n",
       "4      fortis                    10.2700                 10.1250       1   \n",
       "..        ...                        ...                     ...     ...   \n",
       "538  scandens                     9.4899                  9.6516       0   \n",
       "539  scandens                     9.5962                  9.7572       0   \n",
       "540  scandens                     9.6873                  9.8854       0   \n",
       "541  scandens                     9.5203                 10.0023       0   \n",
       "542  scandens                     9.6646                  9.3914       0   \n",
       "\n",
       "     scandens  \n",
       "0           0  \n",
       "1           0  \n",
       "2           0  \n",
       "3           0  \n",
       "4           0  \n",
       "..        ...  \n",
       "538         1  \n",
       "539         1  \n",
       "540         1  \n",
       "541         1  \n",
       "542         1  \n",
       "\n",
       "[543 rows x 5 columns]"
      ]
     },
     "execution_count": 45,
     "metadata": {},
     "output_type": "execute_result"
    }
   ],
   "source": [
    "heredity_df=pd.concat([heredity_df, one_hot_species], axis=1)\n",
    "heredity_df"
   ]
  },
  {
   "cell_type": "markdown",
   "id": "220257ff-5d82-47d7-8d42-574e72971634",
   "metadata": {},
   "source": [
    "Training the model on this new feature set looks a lot like the code above"
   ]
  },
  {
   "cell_type": "code",
   "execution_count": 55,
   "id": "0f635774-4d41-4421-b839-ecc5f99de2cd",
   "metadata": {},
   "outputs": [
    {
     "name": "stdout",
     "output_type": "stream",
     "text": [
      "(543, 3)\n",
      "(543,)\n",
      "0.5041643622549401\n"
     ]
    }
   ],
   "source": [
    "X = heredity_df[['parent beak depth (mm)', 'fortis', 'scandens']].values\n",
    "y = heredity_df['offspring beak depth (mm)'].values\n",
    "print(X.shape)\n",
    "print(y.shape)\n",
    "\n",
    "# Split X (features) and y into test (20%) and training data (80%)\n",
    "X_train, X_test, y_train, y_test = train_test_split(X, y, test_size=0.20)\n",
    "\n",
    "# Fit a linear regression model to the training data (X)\n",
    "regr = linear_model.LinearRegression()\n",
    "regr.fit(X_train, y_train)\n",
    "\n",
    "# Predict y for the test data\n",
    "y_predicted = regr.predict(X_test)\n",
    "\n",
    "# Evaluate the performace: fraction of variance explained by the model\n",
    "from sklearn.metrics import explained_variance_score\n",
    "\n",
    "frac_var_explained = explained_variance_score(y_test, y_predicted)\n",
    "print(frac_var_explained)"
   ]
  },
  {
   "cell_type": "markdown",
   "id": "0c4c22b6-fdf2-41f5-b64f-c04f48fb3f8e",
   "metadata": {},
   "source": [
    "## 2) Beak size dataset - machine learning classifier\n",
    "\n",
    "Let's re-load our original beak size dataframe, and look at the distribution again\n"
   ]
  },
  {
   "cell_type": "code",
   "execution_count": null,
   "id": "dfc0f3b9-2a07-4e9a-beef-e37ed68ab47d",
   "metadata": {},
   "outputs": [],
   "source": []
  },
  {
   "cell_type": "markdown",
   "id": "537ca665-3b09-4144-8297-148f4f260e57",
   "metadata": {},
   "source": [
    "The beak size distributions are pretty non-overlapping, which suggests that we should be able to predict the species based on beak measurements alone. One way to do this is with a classifier model.\n",
    "\n",
    "We are going to use a simple, commmon model called a **Support Vector Machine (SVM)**.\n",
    "\n",
    "sklearn has an implementation of an SVM for classification called a **Support Vector Classifier (SVC)**"
   ]
  },
  {
   "cell_type": "code",
   "execution_count": null,
   "id": "43cb2ba4-9236-4df0-bcda-df08513865ae",
   "metadata": {},
   "outputs": [],
   "source": []
  },
  {
   "cell_type": "markdown",
   "id": "582795a0-3ddf-4d8e-af27-e124ec9eabb9",
   "metadata": {},
   "source": [
    "### Getting the data ready\n",
    "we need a features matrix, (by convention we'll call it X), which is shape = (n_samples, n_features), for us n_features will be 2\n",
    "and a values matrix (y), which will be length n_samples and just be the species name for each sample"
   ]
  },
  {
   "cell_type": "code",
   "execution_count": null,
   "id": "795450b5-d4bc-4e71-a5bf-8524d1ab6648",
   "metadata": {},
   "outputs": [],
   "source": []
  },
  {
   "cell_type": "markdown",
   "id": "b344fadd-5e25-42f1-8340-e564f5391184",
   "metadata": {},
   "source": [
    "The steps for doing this kind of classification are:\n",
    "1. Split the data into training data and testing data\n",
    "2. Fit the model\n",
    "3. Predict some testing data and evaluate the model's performance"
   ]
  },
  {
   "cell_type": "code",
   "execution_count": null,
   "id": "f798f6c2-a4cf-4806-9cc5-4d6575411e25",
   "metadata": {},
   "outputs": [],
   "source": []
  },
  {
   "cell_type": "markdown",
   "id": "92a6a8fe-66a1-45be-9191-31fa68f593c1",
   "metadata": {},
   "source": [
    "### Visualizing the decision boundary\n",
    "SVM works by forming a decision boundary in the feature space that splits points into each class. In this case the feature space is just two dimensional, so it's easy to visualize. But in principle this can be a high dimensional feature space"
   ]
  },
  {
   "cell_type": "code",
   "execution_count": null,
   "id": "36cd974e-8cc7-4122-a999-3549f66bfe0d",
   "metadata": {
    "scrolled": true
   },
   "outputs": [],
   "source": []
  },
  {
   "cell_type": "markdown",
   "id": "53c49bed-13db-4a88-bf9a-68abaa645966",
   "metadata": {},
   "source": [
    "What features is the model using to predict species? We have a sense that it's going to be the beak length, since that's the axis that separates the groups better. We can quantify this using a permutation test, and sklearn has a function that does this for us called **permutation_importance**\n",
    "\n",
    "What this function is doing is, for each feature, scrambling the features relative to the labels and re-testing, to see how well the model does when one feature at a time is randomized. The permutation importance for a feature is related to how much model performance drops when you randomize that feature.\n",
    "\n",
    "Remember the first feaure was beak length, and the second was beak depth\n",
    "\n",
    "`X = beak_df[['beak length (mm)', 'beak depth (mm)']].values`\n"
   ]
  },
  {
   "cell_type": "code",
   "execution_count": null,
   "id": "c21c1f64-c6cd-41c4-88b3-0614fcca061f",
   "metadata": {},
   "outputs": [],
   "source": []
  },
  {
   "attachments": {},
   "cell_type": "markdown",
   "id": "4e04c851-86dc-495c-9c55-0dac3c2daa37",
   "metadata": {},
   "source": [
    "### <span style='color:red;'>EXERCISE 3</span>: Test how well the model does with fewer features  (15 min)\n",
    "\n",
    "Modify the SVC code above to measure prediction accuracy using just one or the other feature\n"
   ]
  },
  {
   "cell_type": "code",
   "execution_count": null,
   "id": "d8639827-941c-49e5-b6b3-6b041f35042d",
   "metadata": {},
   "outputs": [],
   "source": []
  },
  {
   "cell_type": "code",
   "execution_count": null,
   "id": "2954de34-c71d-4fee-9605-9637ada860ae",
   "metadata": {},
   "outputs": [],
   "source": []
  }
 ],
 "metadata": {
  "kernelspec": {
   "display_name": "Python 3 (ipykernel)",
   "language": "python",
   "name": "python3"
  },
  "language_info": {
   "codemirror_mode": {
    "name": "ipython",
    "version": 3
   },
   "file_extension": ".py",
   "mimetype": "text/x-python",
   "name": "python",
   "nbconvert_exporter": "python",
   "pygments_lexer": "ipython3",
   "version": "3.12.3"
  }
 },
 "nbformat": 4,
 "nbformat_minor": 5
}
